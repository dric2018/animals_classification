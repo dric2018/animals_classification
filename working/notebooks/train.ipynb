{
 "cells": [
  {
   "cell_type": "code",
   "execution_count": 1,
   "id": "exciting-found",
   "metadata": {},
   "outputs": [],
   "source": [
    "import sys \n",
    "sys.path.append(\"../src/\")"
   ]
  },
  {
   "cell_type": "code",
   "execution_count": 2,
   "id": "saving-drink",
   "metadata": {},
   "outputs": [],
   "source": [
    "import os\n",
    "import sys\n",
    "import pandas as pd\n",
    "import time\n",
    "\n",
    "import torch as th\n",
    "import torch.nn as nn\n",
    "\n",
    "import pytorch_lightning as pl\n",
    "from pytorch_lightning import seed_everything, Trainer\n",
    "\n",
    "from pytorch_lightning.callbacks import ModelCheckpoint, EarlyStopping, GPUStatsMonitor\n",
    "from pytorch_lightning.loggers import TensorBoardLogger\n",
    "\n",
    "import albumentations as alb\n",
    "from config import Config\n",
    "\n",
    "import vision_utils\n",
    "\n",
    "from dataset import AnimalsDataset, DataModule\n",
    "import model\n",
    "\n",
    "import warnings\n",
    "warnings.filterwarnings(action='ignore')"
   ]
  },
  {
   "cell_type": "code",
   "execution_count": null,
   "id": "pressed-grave",
   "metadata": {},
   "outputs": [],
   "source": []
  },
  {
   "cell_type": "code",
   "execution_count": 3,
   "id": "judicial-geometry",
   "metadata": {},
   "outputs": [
    {
     "name": "stderr",
     "output_type": "stream",
     "text": [
      "Global seed set to 21\n"
     ]
    }
   ],
   "source": [
    "# set seed for repro\n",
    "_ = seed_everything(seed=Config.seed_val)"
   ]
  },
  {
   "cell_type": "code",
   "execution_count": null,
   "id": "lightweight-prototype",
   "metadata": {},
   "outputs": [],
   "source": [
    "# get datasets\n",
    "df = pd.read_csv(os.path.join(Config.data_dir, 'dataset.csv'))\n",
    "# save experiment config\n",
    "version = vision_utils.save_experiment_conf()\n"
   ]
  },
  {
   "cell_type": "code",
   "execution_count": null,
   "id": "1c5e4486-3edc-428d-90c1-eb8fbb70de8a",
   "metadata": {},
   "outputs": [],
   "source": [
    "data_transforms = {\n",
    "    \"train\": alb.Compose([\n",
    "        alb.Resize(600, 600, always_apply=True),\n",
    "        alb.CenterCrop(\n",
    "            height=Config.img_size,\n",
    "            width=Config.img_size,\n",
    "            always_apply=True),\n",
    "        alb.HorizontalFlip(p=.6),\n",
    "        alb.VerticalFlip(p=.65),\n",
    "        alb.Rotate(\n",
    "            limit=35,\n",
    "            interpolation=1,\n",
    "            border_mode=4,\n",
    "            value=None,\n",
    "            mask_value=None,\n",
    "            always_apply=False,\n",
    "            p=0.43,\n",
    "        ),\n",
    "        alb.RandomBrightnessContrast(\n",
    "            brightness_limit=0.25,\n",
    "            contrast_limit=0.3,\n",
    "            always_apply=False,\n",
    "            p=0.5,\n",
    "        ),\n",
    "        alb.Normalize()\n",
    "\n",
    "    ]),\n",
    "    \"test\": alb.Compose([\n",
    "        alb.Resize(600, 600, always_apply=True),\n",
    "        alb.CenterCrop(height=Config.img_size,\n",
    "                       width=Config.img_size,\n",
    "                       always_apply=True),\n",
    "\n",
    "        alb.HorizontalFlip(p=.62),\n",
    "        alb.Rotate(\n",
    "            limit=35,\n",
    "            interpolation=1,\n",
    "            border_mode=4,\n",
    "            value=None,\n",
    "            mask_value=None,\n",
    "            always_apply=False,\n",
    "            p=0.33,\n",
    "        ),\n",
    "        alb.RandomBrightnessContrast(\n",
    "            brightness_limit=0.4,\n",
    "            contrast_limit=0.3,\n",
    "            always_apply=False,\n",
    "            p=0.58,\n",
    "        ),\n",
    "        alb.Normalize()\n",
    "\n",
    "    ]),\n",
    "}\n",
    "dm = DataModule(df=df, data_transforms=data_transforms)\n",
    "print('[INFO] Setting data module up')\n",
    "dm.setup()"
   ]
  },
  {
   "cell_type": "code",
   "execution_count": null,
   "id": "5dc0bb3b-9a32-402b-98b2-ef4ec468f233",
   "metadata": {},
   "outputs": [],
   "source": [
    "# build model\n",
    "print('[INFO] Building model')\n",
    "\n",
    "net = model.Model(pretrained=True)"
   ]
  },
  {
   "cell_type": "code",
   "execution_count": null,
   "id": "95a9a584-9db4-49cb-afa5-510410c6ac78",
   "metadata": {},
   "outputs": [],
   "source": [
    "print('[INFO] Callbacks and loggers configuration')\n",
    "ckpt_cb = ModelCheckpoint(\n",
    "    monitor='val_loss',\n",
    "    mode='min',\n",
    "    dirpath=Config.models_dir,\n",
    "    filename=f'{Config.base_model}-version-{version}'\n",
    "    + '-animals-{val_acc:.5f}-{val_loss:.5f}')\n",
    "\n",
    "gpu_stats = GPUStatsMonitor(memory_utilization=True,\n",
    "                            gpu_utilization=True,\n",
    "                            fan_speed=True,\n",
    "                            temperature=True)\n",
    "\n",
    "es = EarlyStopping(\n",
    "    monitor='val_loss',\n",
    "    patience=Config.early_stopping_patience,\n",
    "    mode='min'\n",
    ")\n",
    "# save experiment config\n",
    "version = vision_utils.save_experiment_conf()\n",
    "\n",
    "Logger = TensorBoardLogger(\n",
    "    save_dir=Config.logs_dir,\n",
    "    name='animals',\n",
    "    version=version\n",
    ")\n",
    "\n",
    "cbs = [es, ckpt_cb, gpu_stats]\n"
   ]
  },
  {
   "cell_type": "code",
   "execution_count": null,
   "id": "7b20a2ba-76f1-4747-b485-ca5063acd955",
   "metadata": {},
   "outputs": [],
   "source": [
    "# build trainer\n",
    "    print('[INFO] Building trainer')\n",
    "    trainer = Trainer(\n",
    "        gpus=1,\n",
    "        precision=Config.precision,\n",
    "        max_epochs=Config.num_epochs,\n",
    "        callbacks=cbs,\n",
    "        logger=Logger,\n",
    "        deterministic=True,\n",
    "        accumulate_grad_batches=Config.accumulate_grad_batches,\n",
    "        fast_dev_run=True\n",
    "    )"
   ]
  },
  {
   "cell_type": "code",
   "execution_count": null,
   "id": "140e2c7e-6226-4128-997e-1c8788171c25",
   "metadata": {},
   "outputs": [],
   "source": [
    "# config training pipeline\n",
    "print(f'[INFO] Runing experiment N° {version}')\n",
    "# train/eval/save model(s)\n",
    "print(f'[INFO] Training model for {Config.num_epochs} epochs')\n",
    "start = time.time()\n",
    "trainer.fit(model=net, datamodule=dm)\n",
    "end = time.time()\n",
    "\n",
    "duration = (end - start) / 60\n",
    "print(f'[INFO] Training time : {duration} mn')\n",
    "print(\"[INFO] Best loss = \", net.best_loss.cpu().item())\n",
    "print(f'[INFO] Saving model for inference')\n",
    "try:\n",
    "    fn = f'animals-{Config.base_model}-version-{version}.bin'\n",
    "    th.jit.save(net.to_torchscript(),\n",
    "                os.path.join(Config.models_dir, fn))\n",
    "    print(f'[INFO] Model saved as {fn}')\n",
    "except Exception as e:\n",
    "    print(\"[ERROR]\", e)"
   ]
  },
  {
   "cell_type": "code",
   "execution_count": null,
   "id": "characteristic-horse",
   "metadata": {},
   "outputs": [],
   "source": []
  },
  {
   "cell_type": "code",
   "execution_count": null,
   "id": "photographic-consumer",
   "metadata": {},
   "outputs": [],
   "source": []
  },
  {
   "cell_type": "code",
   "execution_count": null,
   "id": "confused-beach",
   "metadata": {},
   "outputs": [],
   "source": []
  }
 ],
 "metadata": {
  "kernelspec": {
   "display_name": "Python 3",
   "language": "python",
   "name": "python3"
  },
  "language_info": {
   "codemirror_mode": {
    "name": "ipython",
    "version": 3
   },
   "file_extension": ".py",
   "mimetype": "text/x-python",
   "name": "python",
   "nbconvert_exporter": "python",
   "pygments_lexer": "ipython3",
   "version": "3.8.8"
  },
  "widgets": {
   "application/vnd.jupyter.widget-state+json": {
    "state": {},
    "version_major": 2,
    "version_minor": 0
   }
  }
 },
 "nbformat": 4,
 "nbformat_minor": 5
}
